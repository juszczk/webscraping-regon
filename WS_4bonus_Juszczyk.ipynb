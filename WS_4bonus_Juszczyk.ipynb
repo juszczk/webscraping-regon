{
 "cells": [
  {
   "cell_type": "code",
   "execution_count": 1,
   "metadata": {},
   "outputs": [],
   "source": [
    "from selenium import webdriver\n",
    "from selenium.webdriver.common.by import By\n",
    "from selenium.webdriver.common.keys import Keys\n",
    "from selenium.webdriver.support.ui import WebDriverWait\n",
    "from selenium.webdriver.support import expected_conditions as EC\n",
    "import pandas as pd\n",
    "import time\n",
    "import csv"
   ]
  },
  {
   "cell_type": "code",
   "execution_count": 2,
   "metadata": {},
   "outputs": [
    {
     "data": {
      "text/plain": [
       "[5250011266,\n",
       " 5250008198,\n",
       " 5250008407,\n",
       " 6750002236,\n",
       " 5840203239,\n",
       " 8960005408,\n",
       " 5250005834]"
      ]
     },
     "execution_count": 2,
     "metadata": {},
     "output_type": "execute_result"
    }
   ],
   "source": [
    "data = pd.read_csv(\"Exercises4inputNIP.csv\", sep = \";\", encoding = \"utf-8\")\n",
    "\n",
    "numberNIP = data[\"NIP\"].tolist()\n",
    "numberNIP"
   ]
  },
  {
   "cell_type": "code",
   "execution_count": 3,
   "metadata": {},
   "outputs": [],
   "source": [
    "driver = webdriver.Chrome(\"/Users/marinajuszczyk/chromedriver\")\n",
    "driver.get(\"https://wyszukiwarkaregon.stat.gov.pl/appBIR/index.aspx\")\n",
    "\n",
    "solution = pd.DataFrame(columns = ['Name', 'NIP', 'PKDCode', 'PKDName'])\n",
    "\n",
    "for indNIP in numberNIP:\n",
    "    \n",
    "    # enter NIP number\n",
    "    fieldNIP = driver.find_element_by_id(\"txtNip\")\n",
    "    fieldNIP.send_keys(indNIP)\n",
    "    driver.find_element_by_id(\"btnSzukaj\").click()\n",
    "    driver.implicitly_wait(5) # wait or page will crash\n",
    "    \n",
    "    # unroll general list [1]\n",
    "    xpathName = '//*[@id=\"divListaJednostek\"]/table/tbody/tr/td[1]/a'\n",
    "    WebDriverWait(driver, 10).until(EC.element_to_be_clickable((By.XPATH, xpathName))) # javascript element\n",
    "    driver.find_element_by_xpath(xpathName).click()\n",
    "    driver.implicitly_wait(5) # wait or page will crash\n",
    "    \n",
    "    # unroll PKD list [2]\n",
    "    xpathPKD = '//*[@id=\"praw_butLinkDzial\"]'\n",
    "    WebDriverWait(driver, 10).until(EC.element_to_be_clickable((By.XPATH, xpathPKD))) # javascript element\n",
    "    driver.find_element_by_xpath(xpathPKD).click()\n",
    "\n",
    "    # get company name, NIP and PKD code & name\n",
    "    name = driver.find_element_by_xpath('//*[@id=\"praw_nazwa\"]').text\n",
    "    codeNIP = driver.find_element_by_xpath('//*[@id=\"praw_nip\"]').text\n",
    "    codePKD = driver.find_element_by_xpath('//*[@id=\"praw_dzial\"]/table[1]/tbody/tr/td[1]').text\n",
    "    namePKD = driver.find_element_by_xpath('//*[@id=\"praw_dzial\"]/table[1]/tbody/tr/td[2]').text\n",
    "\n",
    "    solution = solution.append({'Name': name, 'NIP': codeNIP, 'PKDCode': codePKD, 'PKDName' : namePKD}, ignore_index = True)\n",
    "\n",
    "    driver.find_element_by_id(\"txtNip\").clear()\n",
    "    time.sleep(3) # time.sleep(1): 1 second break turned out to be too short for this code"
   ]
  },
  {
   "cell_type": "code",
   "execution_count": 4,
   "metadata": {},
   "outputs": [
    {
     "data": {
      "text/html": [
       "<div>\n",
       "<style scoped>\n",
       "    .dataframe tbody tr th:only-of-type {\n",
       "        vertical-align: middle;\n",
       "    }\n",
       "\n",
       "    .dataframe tbody tr th {\n",
       "        vertical-align: top;\n",
       "    }\n",
       "\n",
       "    .dataframe thead th {\n",
       "        text-align: right;\n",
       "    }\n",
       "</style>\n",
       "<table border=\"1\" class=\"dataframe\">\n",
       "  <thead>\n",
       "    <tr style=\"text-align: right;\">\n",
       "      <th></th>\n",
       "      <th>Name</th>\n",
       "      <th>NIP</th>\n",
       "      <th>PKDCode</th>\n",
       "      <th>PKDName</th>\n",
       "    </tr>\n",
       "  </thead>\n",
       "  <tbody>\n",
       "    <tr>\n",
       "      <th>0</th>\n",
       "      <td>UNIWERSYTET WARSZAWSKI</td>\n",
       "      <td>5250011266</td>\n",
       "      <td>8542Z</td>\n",
       "      <td>SZKOŁY WYŻSZE</td>\n",
       "    </tr>\n",
       "    <tr>\n",
       "      <th>1</th>\n",
       "      <td>NARODOWY BANK POLSKI</td>\n",
       "      <td>5250008198</td>\n",
       "      <td>6411Z</td>\n",
       "      <td>DZIAŁALNOŚĆ BANKU CENTRALNEGO</td>\n",
       "    </tr>\n",
       "    <tr>\n",
       "      <th>2</th>\n",
       "      <td>SZKOŁA GŁÓWNA HANDLOWA W WARSZAWIE</td>\n",
       "      <td>5250008407</td>\n",
       "      <td>8542Z</td>\n",
       "      <td>SZKOŁY WYŻSZE</td>\n",
       "    </tr>\n",
       "    <tr>\n",
       "      <th>3</th>\n",
       "      <td>UNIWERSYTET JAGIELLOŃSKI</td>\n",
       "      <td>6750002236</td>\n",
       "      <td>8542Z</td>\n",
       "      <td>SZKOŁY WYŻSZE</td>\n",
       "    </tr>\n",
       "    <tr>\n",
       "      <th>4</th>\n",
       "      <td>UNIWERSYTET GDAŃSKI</td>\n",
       "      <td>5840203239</td>\n",
       "      <td>8542Z</td>\n",
       "      <td>SZKOŁY WYŻSZE</td>\n",
       "    </tr>\n",
       "    <tr>\n",
       "      <th>5</th>\n",
       "      <td>UNIWERSYTET WROCŁAWSKI</td>\n",
       "      <td>8960005408</td>\n",
       "      <td>8542Z</td>\n",
       "      <td>SZKOŁY WYŻSZE</td>\n",
       "    </tr>\n",
       "    <tr>\n",
       "      <th>6</th>\n",
       "      <td>POLITECHNIKA WARSZAWSKA</td>\n",
       "      <td>5250005834</td>\n",
       "      <td>8542Z</td>\n",
       "      <td>SZKOŁY WYŻSZE</td>\n",
       "    </tr>\n",
       "  </tbody>\n",
       "</table>\n",
       "</div>"
      ],
      "text/plain": [
       "                                 Name         NIP PKDCode  \\\n",
       "0              UNIWERSYTET WARSZAWSKI  5250011266   8542Z   \n",
       "1                NARODOWY BANK POLSKI  5250008198   6411Z   \n",
       "2  SZKOŁA GŁÓWNA HANDLOWA W WARSZAWIE  5250008407   8542Z   \n",
       "3            UNIWERSYTET JAGIELLOŃSKI  6750002236   8542Z   \n",
       "4                 UNIWERSYTET GDAŃSKI  5840203239   8542Z   \n",
       "5              UNIWERSYTET WROCŁAWSKI  8960005408   8542Z   \n",
       "6             POLITECHNIKA WARSZAWSKA  5250005834   8542Z   \n",
       "\n",
       "                         PKDName  \n",
       "0                  SZKOŁY WYŻSZE  \n",
       "1  DZIAŁALNOŚĆ BANKU CENTRALNEGO  \n",
       "2                  SZKOŁY WYŻSZE  \n",
       "3                  SZKOŁY WYŻSZE  \n",
       "4                  SZKOŁY WYŻSZE  \n",
       "5                  SZKOŁY WYŻSZE  \n",
       "6                  SZKOŁY WYŻSZE  "
      ]
     },
     "execution_count": 4,
     "metadata": {},
     "output_type": "execute_result"
    }
   ],
   "source": [
    "solution"
   ]
  },
  {
   "cell_type": "code",
   "execution_count": 9,
   "metadata": {},
   "outputs": [],
   "source": [
    "solution.to_csv(\"WS_4bonus_Juszczyk.csv\", sep=';', encoding='utf-8', index = False)"
   ]
  }
 ],
 "metadata": {
  "kernelspec": {
   "display_name": "Python 3",
   "language": "python",
   "name": "python3"
  },
  "language_info": {
   "codemirror_mode": {
    "name": "ipython",
    "version": 3
   },
   "file_extension": ".py",
   "mimetype": "text/x-python",
   "name": "python",
   "nbconvert_exporter": "python",
   "pygments_lexer": "ipython3",
   "version": "3.7.1"
  }
 },
 "nbformat": 4,
 "nbformat_minor": 2
}
